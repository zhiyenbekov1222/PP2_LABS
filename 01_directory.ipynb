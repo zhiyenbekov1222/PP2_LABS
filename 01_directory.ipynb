{
 "cells": [
  {
   "cell_type": "code",
   "execution_count": 1,
   "metadata": {},
   "outputs": [],
   "source": [
    "import os"
   ]
  },
  {
   "cell_type": "code",
   "execution_count": 2,
   "metadata": {},
   "outputs": [
    {
     "data": {
      "text/plain": [
       "'/Users/user/Documents/KBTU_WORK/pp2/Lecture_notes/week_7'"
      ]
     },
     "execution_count": 2,
     "metadata": {},
     "output_type": "execute_result"
    }
   ],
   "source": [
    "os.getcwd()"
   ]
  },
  {
   "cell_type": "code",
   "execution_count": 3,
   "metadata": {},
   "outputs": [],
   "source": [
    "os.mkdir('test')"
   ]
  },
  {
   "cell_type": "code",
   "execution_count": 4,
   "metadata": {},
   "outputs": [
    {
     "data": {
      "text/plain": [
       "'/Users/user/Documents/KBTU_WORK/pp2/Lecture_notes/week_7'"
      ]
     },
     "execution_count": 4,
     "metadata": {},
     "output_type": "execute_result"
    }
   ],
   "source": [
    "os.getcwd()"
   ]
  },
  {
   "cell_type": "code",
   "execution_count": 5,
   "metadata": {},
   "outputs": [
    {
     "data": {
      "text/plain": [
       "['test', '01_directory.ipynb']"
      ]
     },
     "execution_count": 5,
     "metadata": {},
     "output_type": "execute_result"
    }
   ],
   "source": [
    "os.listdir()"
   ]
  },
  {
   "cell_type": "code",
   "execution_count": 6,
   "metadata": {},
   "outputs": [],
   "source": [
    "os.chdir('test')"
   ]
  },
  {
   "cell_type": "code",
   "execution_count": 7,
   "metadata": {},
   "outputs": [
    {
     "data": {
      "text/plain": [
       "'/Users/user/Documents/KBTU_WORK/pp2/Lecture_notes/week_7/test'"
      ]
     },
     "execution_count": 7,
     "metadata": {},
     "output_type": "execute_result"
    }
   ],
   "source": [
    "os.getcwd()"
   ]
  },
  {
   "cell_type": "code",
   "execution_count": 12,
   "metadata": {},
   "outputs": [],
   "source": [
    "os.chdir('/Users/user/Documents/KBTU_WORK/pp2/PP2_LABS')"
   ]
  },
  {
   "cell_type": "code",
   "execution_count": 13,
   "metadata": {},
   "outputs": [
    {
     "data": {
      "text/plain": [
       "'/Users/user/Documents/KBTU_WORK/pp2/PP2_LABS'"
      ]
     },
     "execution_count": 13,
     "metadata": {},
     "output_type": "execute_result"
    }
   ],
   "source": [
    "os.getcwd()"
   ]
  },
  {
   "cell_type": "code",
   "execution_count": 14,
   "metadata": {},
   "outputs": [
    {
     "data": {
      "text/plain": [
       "['Lab1', 'README.md', 'Lab5', 'Lab2', 'Lab3', 'Lab4', '.git']"
      ]
     },
     "execution_count": 14,
     "metadata": {},
     "output_type": "execute_result"
    }
   ],
   "source": [
    "os.listdir()"
   ]
  },
  {
   "cell_type": "code",
   "execution_count": 9,
   "metadata": {},
   "outputs": [
    {
     "data": {
      "text/plain": [
       "[\"~$ogramming Principles II 25' - Zhalgas Zhiyenbekov.docx\",\n",
       " '1.Fundamentals of Python',\n",
       " '.DS_Store',\n",
       " 'Materials ppt',\n",
       " 'postgre',\n",
       " 'PP2_LABS',\n",
       " 'githowto.zip',\n",
       " 'Lecture_notes',\n",
       " 'Programming Principles II syllabus.pdf',\n",
       " 'Loan_scoring_model',\n",
       " 'seminar_en',\n",
       " 'Lecture Materials_Arnur.zip',\n",
       " 'work',\n",
       " 'togzhan_test',\n",
       " 'PP2_Seminar',\n",
       " '.ipynb_checkpoints',\n",
       " 'Lecture Materials',\n",
       " 'Exam_reports',\n",
       " 'programming-principles-2',\n",
       " 'PP2_Seminar-main.zip',\n",
       " 'githowto',\n",
       " 'Lectures',\n",
       " \"Programming Principles II 25' - Zhalgas Zhiyenbekov.docx\",\n",
       " 'Attendance_False.xlsx',\n",
       " 'student_files_temp',\n",
       " 'Materials ppt.zip',\n",
       " 'PP2_Seminar-main',\n",
       " 'Mock_students',\n",
       " 'Project_in_Spark']"
      ]
     },
     "execution_count": 9,
     "metadata": {},
     "output_type": "execute_result"
    }
   ],
   "source": [
    "os.listdir('/Users/user/Documents/KBTU_WORK/pp2')"
   ]
  },
  {
   "cell_type": "code",
   "execution_count": 15,
   "metadata": {},
   "outputs": [],
   "source": [
    "os.chdir('/Users/user/Documents/KBTU_WORK/pp2/Lecture_notes/week_7')"
   ]
  },
  {
   "cell_type": "code",
   "execution_count": 16,
   "metadata": {},
   "outputs": [
    {
     "data": {
      "text/plain": [
       "['test', '01_directory.ipynb']"
      ]
     },
     "execution_count": 16,
     "metadata": {},
     "output_type": "execute_result"
    }
   ],
   "source": [
    "os.listdir()"
   ]
  },
  {
   "cell_type": "code",
   "execution_count": 17,
   "metadata": {},
   "outputs": [],
   "source": [
    "os.rmdir('test')"
   ]
  },
  {
   "cell_type": "code",
   "execution_count": 18,
   "metadata": {},
   "outputs": [
    {
     "data": {
      "text/plain": [
       "['01_directory.ipynb']"
      ]
     },
     "execution_count": 18,
     "metadata": {},
     "output_type": "execute_result"
    }
   ],
   "source": [
    "os.listdir()"
   ]
  },
  {
   "cell_type": "markdown",
   "metadata": {},
   "source": [
    "## File txt"
   ]
  },
  {
   "cell_type": "code",
   "execution_count": 27,
   "metadata": {},
   "outputs": [],
   "source": [
    "file = open('/Users/user/Documents/KBTU_WORK/pp2/PP2_LABS/Lab5/row.txt', errors= 'coerse')"
   ]
  },
  {
   "cell_type": "code",
   "execution_count": 25,
   "metadata": {},
   "outputs": [
    {
     "name": "stdout",
     "output_type": "stream",
     "text": [
      "ДУБЛИКАТ\n",
      "Филиал ТОО EUROPHARMA Астана\n",
      "БИН 080841000761\n",
      "НДС Серия 58001\n",
      " № 0014377\n",
      "Касса 300-189\n",
      "Смена 10\n",
      "Порядковый номер чека №64\n",
      "Чек №2331180266\n",
      "Кассир Аптека 17-1\n",
      "ПРОДАЖА\n",
      "1.\n",
      "Натрия хлорид 0,9%, 200 мл, фл\n",
      "2,000 x 154,00\n",
      "308,00\n",
      "Стоимость\n",
      "308,00\n",
      "2.\n",
      "Борный спирт 3%, 20 мл, фл.\n",
      "1,000 x 51,00\n",
      "51,00\n",
      "Стоимость\n",
      "51,00\n",
      "3.\n",
      "Шприц 2 мл, 3-х комп. (Bioject)\n",
      "2,000 x 16,00\n",
      "32,00\n",
      "Стоимость\n",
      "32,00\n",
      "4.\n",
      "Система для инфузии Vogt Medical\n",
      "2,000 x 60,00\n",
      "120,00\n",
      "Стоимость\n",
      "120,00\n",
      "5.\n",
      "Naturella прокладки Классик макси №8\n",
      "1,000 x 310,00\n",
      "310,00\n",
      "Стоимость\n",
      "310,00\n",
      "6.\n",
      "AURA Ватные диски №150\n",
      "1,000 x 461,00\n",
      "461,00\n",
      "Стоимость\n",
      "461,00\n",
      "7.\n",
      "Чистая линия скраб мягкий 50 мл\n",
      "1,000 x 381,00\n",
      "381,00\n",
      "Стоимость\n",
      "381,00\n",
      "8.\n",
      "Чистая линия  скраб очищающийабрикос 50 мл\n",
      "1,000 x 386,00\n",
      "386,00\n",
      "Стоимость\n",
      "386,00\n",
      "9.\n",
      "Чистая линия скраб мягкий 50 мл\n",
      "1,000 x 381,00\n",
      "381,00\n",
      "Стоимость\n",
      "381,00\n",
      "10.\n",
      "Carefree салфетки Алоэвоздухопроницаемые №20\n",
      "1,000 x 414,00\n",
      "414,00\n",
      "Стоимость\n",
      "414,00\n",
      "11.\n",
      "Pro Series Шампунь яркий цвет 500мл\n",
      "1,000 x 841,00\n",
      "841,00\n",
      "Стоимость\n",
      "841,00\n",
      "12.\n",
      "Pro Series бальзам-ополаскивательдля длител ухода за окрашеннымиволосами Яркий цвет 500мл\n",
      "1,000 x 841,00\n",
      "841,00\n",
      "Стоимость\n",
      "841,00\n",
      "13.\n",
      "Clear шампунь Актив спорт 2в1мужской  400 мл\n",
      "1,000 x 1 200,00\n",
      "1 200,00\n",
      "Стоимость\n",
      "1 200,00\n",
      "14.\n",
      "Bio World (HYDRO THERAPY)Мицеллярная вода 5в1, 445мл\n",
      "1,000 x 1 152,00\n",
      "1 152,00\n",
      "Стоимость\n",
      "1 152,00\n",
      "15.\n",
      "Bio World (HYDRO THERAPY) Гель-муссдля умывания с гиалуроновойкислотой, 250мл\n",
      "1,000 x 1 152,00\n",
      "1 152,00\n",
      "Стоимость\n",
      "1 152,00\n",
      "16.\n",
      "[RX]-Натрия хлорид 0,9%, 100 мл, фл.\n",
      "1,000 x 168,00\n",
      "168,00\n",
      "Стоимость\n",
      "168,00\n",
      "17.\n",
      "[RX]-Дисоль р-р 400 мл, фл.\n",
      "1,000 x 163,00\n",
      "163,00\n",
      "Стоимость\n",
      "163,00\n",
      "18.\n",
      "Тагансорбент с иономи серебра №30,пор.\n",
      "1,000 x 1 526,00\n",
      "1 526,00\n",
      "Стоимость\n",
      "1 526,00\n",
      "19.\n",
      "[RX]-Церукал 2%, 2 мл, №10, амп.\n",
      "2,000 x 396,00\n",
      "792,00\n",
      "Стоимость\n",
      "792,00\n",
      "20.\n",
      "[RX]-Андазол 200 мг, №40, табл.\n",
      "1,000 x 7 330,00\n",
      "7 330,00\n",
      "Стоимость\n",
      "7 330,00\n",
      "Банковская карта:\n",
      "18 009,00\n",
      "ИТОГО:\n",
      "18 009,00\n",
      "в т.ч. НДС 12%:\n",
      "0,00\n",
      "Фискальный признак:\n",
      "2331180266\n",
      "Время: 18.04.2019 11:13:58\n",
      "г. Нур-султан,Казахстан, Мангилик Ел,19, нп-5\n",
      "Оператор фискальных данных: АО\"Казахтелеком\"Для проверки чека зайдите на сайт:consumer.oofd.kz\n",
      "ФИСКАЛЬНЫЙ ЧЕК\n",
      "ФП\n",
      "ИНК ОФД: 311559\n",
      "Код ККМ КГД (РНМ): 620300145316\n",
      "ЗНМ: SWK00034961\n",
      "WEBKASSA.KZ\n",
      "\n"
     ]
    }
   ],
   "source": [
    "print(file.read())"
   ]
  },
  {
   "cell_type": "code",
   "execution_count": 28,
   "metadata": {},
   "outputs": [
    {
     "data": {
      "text/plain": [
       "['ДУБЛИКАТ\\n',\n",
       " 'Филиал ТОО EUROPHARMA Астана\\n',\n",
       " 'БИН 080841000761\\n',\n",
       " 'НДС Серия 58001\\n',\n",
       " ' № 0014377\\n',\n",
       " 'Касса 300-189\\n',\n",
       " 'Смена 10\\n',\n",
       " 'Порядковый номер чека №64\\n',\n",
       " 'Чек №2331180266\\n',\n",
       " 'Кассир Аптека 17-1\\n',\n",
       " 'ПРОДАЖА\\n',\n",
       " '1.\\n',\n",
       " 'Натрия хлорид 0,9%, 200 мл, фл\\n',\n",
       " '2,000 x 154,00\\n',\n",
       " '308,00\\n',\n",
       " 'Стоимость\\n',\n",
       " '308,00\\n',\n",
       " '2.\\n',\n",
       " 'Борный спирт 3%, 20 мл, фл.\\n',\n",
       " '1,000 x 51,00\\n',\n",
       " '51,00\\n',\n",
       " 'Стоимость\\n',\n",
       " '51,00\\n',\n",
       " '3.\\n',\n",
       " 'Шприц 2 мл, 3-х комп. (Bioject)\\n',\n",
       " '2,000 x 16,00\\n',\n",
       " '32,00\\n',\n",
       " 'Стоимость\\n',\n",
       " '32,00\\n',\n",
       " '4.\\n',\n",
       " 'Система для инфузии Vogt Medical\\n',\n",
       " '2,000 x 60,00\\n',\n",
       " '120,00\\n',\n",
       " 'Стоимость\\n',\n",
       " '120,00\\n',\n",
       " '5.\\n',\n",
       " 'Naturella прокладки Классик макси №8\\n',\n",
       " '1,000 x 310,00\\n',\n",
       " '310,00\\n',\n",
       " 'Стоимость\\n',\n",
       " '310,00\\n',\n",
       " '6.\\n',\n",
       " 'AURA Ватные диски №150\\n',\n",
       " '1,000 x 461,00\\n',\n",
       " '461,00\\n',\n",
       " 'Стоимость\\n',\n",
       " '461,00\\n',\n",
       " '7.\\n',\n",
       " 'Чистая линия скраб мягкий 50 мл\\n',\n",
       " '1,000 x 381,00\\n',\n",
       " '381,00\\n',\n",
       " 'Стоимость\\n',\n",
       " '381,00\\n',\n",
       " '8.\\n',\n",
       " 'Чистая линия  скраб очищающийабрикос 50 мл\\n',\n",
       " '1,000 x 386,00\\n',\n",
       " '386,00\\n',\n",
       " 'Стоимость\\n',\n",
       " '386,00\\n',\n",
       " '9.\\n',\n",
       " 'Чистая линия скраб мягкий 50 мл\\n',\n",
       " '1,000 x 381,00\\n',\n",
       " '381,00\\n',\n",
       " 'Стоимость\\n',\n",
       " '381,00\\n',\n",
       " '10.\\n',\n",
       " 'Carefree салфетки Алоэвоздухопроницаемые №20\\n',\n",
       " '1,000 x 414,00\\n',\n",
       " '414,00\\n',\n",
       " 'Стоимость\\n',\n",
       " '414,00\\n',\n",
       " '11.\\n',\n",
       " 'Pro Series Шампунь яркий цвет 500мл\\n',\n",
       " '1,000 x 841,00\\n',\n",
       " '841,00\\n',\n",
       " 'Стоимость\\n',\n",
       " '841,00\\n',\n",
       " '12.\\n',\n",
       " 'Pro Series бальзам-ополаскивательдля длител ухода за окрашеннымиволосами Яркий цвет 500мл\\n',\n",
       " '1,000 x 841,00\\n',\n",
       " '841,00\\n',\n",
       " 'Стоимость\\n',\n",
       " '841,00\\n',\n",
       " '13.\\n',\n",
       " 'Clear шампунь Актив спорт 2в1мужской  400 мл\\n',\n",
       " '1,000 x 1 200,00\\n',\n",
       " '1 200,00\\n',\n",
       " 'Стоимость\\n',\n",
       " '1 200,00\\n',\n",
       " '14.\\n',\n",
       " 'Bio World (HYDRO THERAPY)Мицеллярная вода 5в1, 445мл\\n',\n",
       " '1,000 x 1 152,00\\n',\n",
       " '1 152,00\\n',\n",
       " 'Стоимость\\n',\n",
       " '1 152,00\\n',\n",
       " '15.\\n',\n",
       " 'Bio World (HYDRO THERAPY) Гель-муссдля умывания с гиалуроновойкислотой, 250мл\\n',\n",
       " '1,000 x 1 152,00\\n',\n",
       " '1 152,00\\n',\n",
       " 'Стоимость\\n',\n",
       " '1 152,00\\n',\n",
       " '16.\\n',\n",
       " '[RX]-Натрия хлорид 0,9%, 100 мл, фл.\\n',\n",
       " '1,000 x 168,00\\n',\n",
       " '168,00\\n',\n",
       " 'Стоимость\\n',\n",
       " '168,00\\n',\n",
       " '17.\\n',\n",
       " '[RX]-Дисоль р-р 400 мл, фл.\\n',\n",
       " '1,000 x 163,00\\n',\n",
       " '163,00\\n',\n",
       " 'Стоимость\\n',\n",
       " '163,00\\n',\n",
       " '18.\\n',\n",
       " 'Тагансорбент с иономи серебра №30,пор.\\n',\n",
       " '1,000 x 1 526,00\\n',\n",
       " '1 526,00\\n',\n",
       " 'Стоимость\\n',\n",
       " '1 526,00\\n',\n",
       " '19.\\n',\n",
       " '[RX]-Церукал 2%, 2 мл, №10, амп.\\n',\n",
       " '2,000 x 396,00\\n',\n",
       " '792,00\\n',\n",
       " 'Стоимость\\n',\n",
       " '792,00\\n',\n",
       " '20.\\n',\n",
       " '[RX]-Андазол 200 мг, №40, табл.\\n',\n",
       " '1,000 x 7 330,00\\n',\n",
       " '7 330,00\\n',\n",
       " 'Стоимость\\n',\n",
       " '7 330,00\\n',\n",
       " 'Банковская карта:\\n',\n",
       " '18 009,00\\n',\n",
       " 'ИТОГО:\\n',\n",
       " '18 009,00\\n',\n",
       " 'в т.ч. НДС 12%:\\n',\n",
       " '0,00\\n',\n",
       " 'Фискальный признак:\\n',\n",
       " '2331180266\\n',\n",
       " 'Время: 18.04.2019 11:13:58\\n',\n",
       " 'г. Нур-султан,Казахстан, Мангилик Ел,19, нп-5\\n',\n",
       " 'Оператор фискальных данных: АО\"Казахтелеком\"Для проверки чека зайдите на сайт:consumer.oofd.kz\\n',\n",
       " 'ФИСКАЛЬНЫЙ ЧЕК\\n',\n",
       " 'ФП\\n',\n",
       " 'ИНК ОФД: 311559\\n',\n",
       " 'Код ККМ КГД (РНМ): 620300145316\\n',\n",
       " 'ЗНМ: SWK00034961\\n',\n",
       " 'WEBKASSA.KZ\\n']"
      ]
     },
     "execution_count": 28,
     "metadata": {},
     "output_type": "execute_result"
    }
   ],
   "source": [
    "file.readlines()"
   ]
  },
  {
   "cell_type": "code",
   "execution_count": 34,
   "metadata": {},
   "outputs": [
    {
     "name": "stdout",
     "output_type": "stream",
     "text": [
      "ДУБЛИКАТ\n",
      "\n",
      "Филиал ТОО EUROPHARMA Астана\n",
      "\n",
      "БИН 080841000761\n",
      "\n",
      "НДС Серия 58001\n",
      "\n",
      " № 0014377\n",
      "\n",
      "Касса 300-189\n",
      "\n",
      "Смена 10\n",
      "\n",
      "Порядковый номер чека №64\n",
      "\n",
      "Чек №2331180266\n",
      "\n",
      "Кассир Аптека 17-1\n",
      "\n",
      "ПРОДАЖА\n",
      "\n",
      "1.\n",
      "\n",
      "Натрия хлорид 0,9%, 200 мл, фл\n",
      "\n",
      "2,000 x 154,00\n",
      "\n",
      "308,00\n",
      "\n",
      "Стоимость\n",
      "\n",
      "308,00\n",
      "\n",
      "2.\n",
      "\n",
      "Борный спирт 3%, 20 мл, фл.\n",
      "\n",
      "1,000 x 51,00\n",
      "\n",
      "51,00\n",
      "\n",
      "Стоимость\n",
      "\n",
      "51,00\n",
      "\n",
      "3.\n",
      "\n",
      "Шприц 2 мл, 3-х комп. (Bioject)\n",
      "\n",
      "2,000 x 16,00\n",
      "\n",
      "32,00\n",
      "\n",
      "Стоимость\n",
      "\n",
      "32,00\n",
      "\n",
      "4.\n",
      "\n",
      "Система для инфузии Vogt Medical\n",
      "\n",
      "2,000 x 60,00\n",
      "\n",
      "120,00\n",
      "\n",
      "Стоимость\n",
      "\n",
      "120,00\n",
      "\n",
      "5.\n",
      "\n",
      "Naturella прокладки Классик макси №8\n",
      "\n",
      "1,000 x 310,00\n",
      "\n",
      "310,00\n",
      "\n",
      "Стоимость\n",
      "\n",
      "310,00\n",
      "\n",
      "6.\n",
      "\n",
      "AURA Ватные диски №150\n",
      "\n",
      "1,000 x 461,00\n",
      "\n",
      "461,00\n",
      "\n",
      "Стоимость\n",
      "\n",
      "461,00\n",
      "\n",
      "7.\n",
      "\n",
      "Чистая линия скраб мягкий 50 мл\n",
      "\n",
      "1,000 x 381,00\n",
      "\n",
      "381,00\n",
      "\n",
      "Стоимость\n",
      "\n",
      "381,00\n",
      "\n",
      "8.\n",
      "\n",
      "Чистая линия  скраб очищающийабрикос 50 мл\n",
      "\n",
      "1,000 x 386,00\n",
      "\n",
      "386,00\n",
      "\n",
      "Стоимость\n",
      "\n",
      "386,00\n",
      "\n",
      "9.\n",
      "\n",
      "Чистая линия скраб мягкий 50 мл\n",
      "\n",
      "1,000 x 381,00\n",
      "\n",
      "381,00\n",
      "\n",
      "Стоимость\n",
      "\n",
      "381,00\n",
      "\n",
      "10.\n",
      "\n",
      "Carefree салфетки Алоэвоздухопроницаемые №20\n",
      "\n",
      "1,000 x 414,00\n",
      "\n",
      "414,00\n",
      "\n",
      "Стоимость\n",
      "\n",
      "414,00\n",
      "\n",
      "11.\n",
      "\n",
      "Pro Series Шампунь яркий цвет 500мл\n",
      "\n",
      "1,000 x 841,00\n",
      "\n",
      "841,00\n",
      "\n",
      "Стоимость\n",
      "\n",
      "841,00\n",
      "\n",
      "12.\n",
      "\n",
      "Pro Series бальзам-ополаскивательдля длител ухода за окрашеннымиволосами Яркий цвет 500мл\n",
      "\n",
      "1,000 x 841,00\n",
      "\n",
      "841,00\n",
      "\n",
      "Стоимость\n",
      "\n",
      "841,00\n",
      "\n",
      "13.\n",
      "\n",
      "Clear шампунь Актив спорт 2в1мужской  400 мл\n",
      "\n",
      "1,000 x 1 200,00\n",
      "\n",
      "1 200,00\n",
      "\n",
      "Стоимость\n",
      "\n",
      "1 200,00\n",
      "\n",
      "14.\n",
      "\n",
      "Bio World (HYDRO THERAPY)Мицеллярная вода 5в1, 445мл\n",
      "\n",
      "1,000 x 1 152,00\n",
      "\n",
      "1 152,00\n",
      "\n",
      "Стоимость\n",
      "\n",
      "1 152,00\n",
      "\n",
      "15.\n",
      "\n",
      "Bio World (HYDRO THERAPY) Гель-муссдля умывания с гиалуроновойкислотой, 250мл\n",
      "\n",
      "1,000 x 1 152,00\n",
      "\n",
      "1 152,00\n",
      "\n",
      "Стоимость\n",
      "\n",
      "1 152,00\n",
      "\n",
      "16.\n",
      "\n",
      "[RX]-Натрия хлорид 0,9%, 100 мл, фл.\n",
      "\n",
      "1,000 x 168,00\n",
      "\n",
      "168,00\n",
      "\n",
      "Стоимость\n",
      "\n",
      "168,00\n",
      "\n",
      "17.\n",
      "\n",
      "[RX]-Дисоль р-р 400 мл, фл.\n",
      "\n",
      "1,000 x 163,00\n",
      "\n",
      "163,00\n",
      "\n",
      "Стоимость\n",
      "\n",
      "163,00\n",
      "\n",
      "18.\n",
      "\n",
      "Тагансорбент с иономи серебра №30,пор.\n",
      "\n",
      "1,000 x 1 526,00\n",
      "\n",
      "1 526,00\n",
      "\n",
      "Стоимость\n",
      "\n",
      "1 526,00\n",
      "\n",
      "19.\n",
      "\n",
      "[RX]-Церукал 2%, 2 мл, №10, амп.\n",
      "\n",
      "2,000 x 396,00\n",
      "\n",
      "792,00\n",
      "\n",
      "Стоимость\n",
      "\n",
      "792,00\n",
      "\n",
      "20.\n",
      "\n",
      "[RX]-Андазол 200 мг, №40, табл.\n",
      "\n",
      "1,000 x 7 330,00\n",
      "\n",
      "7 330,00\n",
      "\n",
      "Стоимость\n",
      "\n",
      "7 330,00\n",
      "\n",
      "Банковская карта:\n",
      "\n",
      "18 009,00\n",
      "\n",
      "ИТОГО:\n",
      "\n",
      "18 009,00\n",
      "\n",
      "в т.ч. НДС 12%:\n",
      "\n",
      "0,00\n",
      "\n",
      "Фискальный признак:\n",
      "\n",
      "2331180266\n",
      "\n",
      "Время: 18.04.2019 11:13:58\n",
      "\n",
      "г. Нур-султан,Казахстан, Мангилик Ел,19, нп-5\n",
      "\n",
      "Оператор фискальных данных: АО\"Казахтелеком\"Для проверки чека зайдите на сайт:consumer.oofd.kz\n",
      "\n",
      "ФИСКАЛЬНЫЙ ЧЕК\n",
      "\n",
      "ФП\n",
      "\n",
      "ИНК ОФД: 311559\n",
      "\n",
      "Код ККМ КГД (РНМ): 620300145316\n",
      "\n",
      "ЗНМ: SWK00034961\n",
      "\n",
      "WEBKASSA.KZ\n",
      "\n"
     ]
    }
   ],
   "source": [
    "new_list = []\n",
    "with open('/Users/user/Documents/KBTU_WORK/pp2/PP2_LABS/Lab5/row.txt', errors= 'coerse') as new_file:\n",
    "    for row in new_file:\n",
    "        print(row)\n",
    "        new_list.append(row)"
   ]
  },
  {
   "cell_type": "code",
   "execution_count": 36,
   "metadata": {},
   "outputs": [
    {
     "data": {
      "text/plain": [
       "'/Users/user/Documents/KBTU_WORK/pp2/Lecture_notes/week_7'"
      ]
     },
     "execution_count": 36,
     "metadata": {},
     "output_type": "execute_result"
    }
   ],
   "source": [
    "os.getcwd()"
   ]
  },
  {
   "cell_type": "code",
   "execution_count": 37,
   "metadata": {},
   "outputs": [],
   "source": [
    "new_file = open('new_file.txt', mode = 'w')"
   ]
  },
  {
   "cell_type": "code",
   "execution_count": 45,
   "metadata": {},
   "outputs": [
    {
     "ename": "ValueError",
     "evalue": "I/O operation on closed file.",
     "output_type": "error",
     "traceback": [
      "\u001b[0;31m---------------------------------------------------------------------------\u001b[0m",
      "\u001b[0;31mValueError\u001b[0m                                Traceback (most recent call last)",
      "Cell \u001b[0;32mIn[45], line 4\u001b[0m\n\u001b[1;32m      2\u001b[0m file\u001b[38;5;241m.\u001b[39mwrite(\u001b[38;5;124m'\u001b[39m\u001b[38;5;124mHello OLD file!\u001b[39m\u001b[38;5;130;01m\\n\u001b[39;00m\u001b[38;5;124m'\u001b[39m)\n\u001b[1;32m      3\u001b[0m file\u001b[38;5;241m.\u001b[39mclose()\n\u001b[0;32m----> 4\u001b[0m file\u001b[38;5;241m.\u001b[39mwrite(\u001b[38;5;124m'\u001b[39m\u001b[38;5;124mThis is the ANOTHER message!\u001b[39m\u001b[38;5;124m'\u001b[39m)\n",
      "\u001b[0;31mValueError\u001b[0m: I/O operation on closed file."
     ]
    }
   ],
   "source": [
    "with open('new_file.txt', mode = 'w') as file:\n",
    "    file.write('Hello OLD file!\\n')\n",
    "    file.write('This is the ANOTHER message!')\n",
    "    "
   ]
  },
  {
   "cell_type": "code",
   "execution_count": 39,
   "metadata": {},
   "outputs": [
    {
     "ename": "ValueError",
     "evalue": "I/O operation on closed file.",
     "output_type": "error",
     "traceback": [
      "\u001b[0;31m---------------------------------------------------------------------------\u001b[0m",
      "\u001b[0;31mValueError\u001b[0m                                Traceback (most recent call last)",
      "Cell \u001b[0;32mIn[39], line 1\u001b[0m\n\u001b[0;32m----> 1\u001b[0m file\u001b[38;5;241m.\u001b[39mwrite(\u001b[38;5;124m'\u001b[39m\u001b[38;5;124mThis is the second message!\u001b[39m\u001b[38;5;124m'\u001b[39m)\n",
      "\u001b[0;31mValueError\u001b[0m: I/O operation on closed file."
     ]
    }
   ],
   "source": [
    "file.write('This is the second message!')"
   ]
  },
  {
   "cell_type": "code",
   "execution_count": 46,
   "metadata": {},
   "outputs": [],
   "source": [
    "with open('new_file.txt', mode = 'a') as file:\n",
    "    file.write('Hello new file!\\n')\n",
    "    file.write('This is the New message!')\n",
    "    "
   ]
  },
  {
   "cell_type": "code",
   "execution_count": 47,
   "metadata": {},
   "outputs": [
    {
     "data": {
      "text/plain": [
       "True"
      ]
     },
     "execution_count": 47,
     "metadata": {},
     "output_type": "execute_result"
    }
   ],
   "source": [
    "os.path.exists('new_file.txt')"
   ]
  },
  {
   "cell_type": "code",
   "execution_count": 48,
   "metadata": {},
   "outputs": [
    {
     "data": {
      "text/plain": [
       "True"
      ]
     },
     "execution_count": 48,
     "metadata": {},
     "output_type": "execute_result"
    }
   ],
   "source": [
    "os.path.isfile('new_file.txt')"
   ]
  },
  {
   "cell_type": "code",
   "execution_count": 50,
   "metadata": {},
   "outputs": [
    {
     "data": {
      "text/plain": [
       "['new_file.txt', '01_directory.ipynb']"
      ]
     },
     "execution_count": 50,
     "metadata": {},
     "output_type": "execute_result"
    }
   ],
   "source": [
    "os.listdir()"
   ]
  },
  {
   "cell_type": "code",
   "execution_count": 53,
   "metadata": {},
   "outputs": [],
   "source": [
    "os.mkdir('test')"
   ]
  },
  {
   "cell_type": "code",
   "execution_count": 56,
   "metadata": {},
   "outputs": [
    {
     "name": "stdout",
     "output_type": "stream",
     "text": [
      "There are a directory to open: test\n"
     ]
    }
   ],
   "source": [
    "for next_path in os.listdir():\n",
    "    if os.path.isdir(next_path):\n",
    "        print(f'There are a directory to open: {next_path}')"
   ]
  },
  {
   "cell_type": "markdown",
   "metadata": {},
   "source": [
    "## CSV -comma seperated values"
   ]
  },
  {
   "cell_type": "code",
   "execution_count": 58,
   "metadata": {},
   "outputs": [],
   "source": [
    "import csv"
   ]
  },
  {
   "cell_type": "code",
   "execution_count": 67,
   "metadata": {},
   "outputs": [],
   "source": [
    "list_new = ['name', 'color', 'weight']"
   ]
  },
  {
   "cell_type": "code",
   "execution_count": 68,
   "metadata": {},
   "outputs": [],
   "source": [
    "with open('new_file.csv', 'w') as file:\n",
    "    write_row = csv.writer(file)\n",
    "    write_row.writerow(list_new)"
   ]
  },
  {
   "cell_type": "code",
   "execution_count": 70,
   "metadata": {},
   "outputs": [
    {
     "name": "stdout",
     "output_type": "stream",
     "text": [
      "['name', 'color', 'weight']\n"
     ]
    }
   ],
   "source": [
    "with open('new_file.csv', 'r') as file2:\n",
    "    csv_reader = csv.reader(file2)\n",
    "    for row in csv_reader:\n",
    "        print(row)"
   ]
  },
  {
   "cell_type": "code",
   "execution_count": 71,
   "metadata": {},
   "outputs": [
    {
     "name": "stdout",
     "output_type": "stream",
     "text": [
      "CSV file written successfully!\n"
     ]
    }
   ],
   "source": [
    "\n",
    "import csv\n",
    "\n",
    "data = [\n",
    "    [\"Name\", \"Age\", \"City\"],\n",
    "    [\"Alice\", 30, \"New York\"],\n",
    "    [\"Bob\", 25, \"Los Angeles\"],\n",
    "    [\"Charlie\", 35, \"Chicago\"]\n",
    "]\n",
    "\n",
    "with open(\"people.csv\", mode=\"w\", newline=\"\") as file:\n",
    "    writer = csv.writer(file)\n",
    "    writer.writerows(data)\n",
    "\n",
    "print(\"CSV file written successfully!\")\n",
    "\n"
   ]
  },
  {
   "cell_type": "code",
   "execution_count": 72,
   "metadata": {},
   "outputs": [
    {
     "name": "stdout",
     "output_type": "stream",
     "text": [
      "CSV file written successfully!\n"
     ]
    }
   ],
   "source": [
    "\n",
    "import csv\n",
    "\n",
    "data = [\n",
    "    {\"Name\": \"Alice\", \"Age\": 30, \"City\": \"New York\"},\n",
    "    {\"Name\": \"Bob\", \"Age\": 25, \"City\": \"Los Angeles\"},\n",
    "    {\"Name\": \"Charlie\", \"Age\": 35, \"City\": \"Chicago\"}\n",
    "]\n",
    "\n",
    "# Writing to CSV\n",
    "with open(\"people_dict.csv\", mode=\"w\", newline=\"\") as file:\n",
    "    fieldnames = [\"Name\", \"Age\", \"City\"]\n",
    "    writer = csv.DictWriter(file, fieldnames=fieldnames)\n",
    "\n",
    "    writer.writeheader()  # Writing column names\n",
    "    writer.writerows(data)\n",
    "\n",
    "print(\"CSV file written successfully!\")\n",
    "\n"
   ]
  },
  {
   "cell_type": "code",
   "execution_count": null,
   "metadata": {},
   "outputs": [],
   "source": []
  },
  {
   "cell_type": "code",
   "execution_count": 57,
   "metadata": {},
   "outputs": [
    {
     "name": "stdout",
     "output_type": "stream",
     "text": [
      "CSV file written successfully!\n"
     ]
    }
   ],
   "source": [
    "\n",
    "import csv\n",
    "\n",
    "data = [\n",
    "    {\"Name\": \"Alice\", \"Age\": 30, \"City\": \"New York\"},\n",
    "    {\"Name\": \"Bob\", \"Age\": 25, \"City\": \"Los Angeles\"},\n",
    "    {\"Name\": \"Charlie\", \"Age\": 35, \"City\": \"Chicago\"}\n",
    "]\n",
    "\n",
    "with open(\"people_dict.csv\", mode=\"w\", newline=\"\") as file:\n",
    "    fieldnames = [\"Name\", \"Age\", \"City\"]\n",
    "    writer = csv.DictWriter(file, fieldnames=fieldnames)\n",
    "\n",
    "    writer.writeheader() \n",
    "    writer.writerows(data)\n",
    "\n",
    "print(\"CSV file written successfully!\")\n",
    "\n"
   ]
  },
  {
   "cell_type": "code",
   "execution_count": null,
   "metadata": {},
   "outputs": [],
   "source": []
  }
 ],
 "metadata": {
  "kernelspec": {
   "display_name": "base",
   "language": "python",
   "name": "python3"
  },
  "language_info": {
   "codemirror_mode": {
    "name": "ipython",
    "version": 3
   },
   "file_extension": ".py",
   "mimetype": "text/x-python",
   "name": "python",
   "nbconvert_exporter": "python",
   "pygments_lexer": "ipython3",
   "version": "3.12.4"
  }
 },
 "nbformat": 4,
 "nbformat_minor": 2
}
