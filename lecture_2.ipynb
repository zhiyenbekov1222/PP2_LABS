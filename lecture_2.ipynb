{
 "cells": [
  {
   "cell_type": "code",
   "execution_count": 1,
   "metadata": {},
   "outputs": [],
   "source": [
    "import os"
   ]
  },
  {
   "cell_type": "code",
   "execution_count": 18,
   "metadata": {},
   "outputs": [
    {
     "ename": "OSError",
     "evalue": "[Errno 66] Directory not empty: 'new_directory'",
     "output_type": "error",
     "traceback": [
      "\u001b[0;31m---------------------------------------------------------------------------\u001b[0m",
      "\u001b[0;31mOSError\u001b[0m                                   Traceback (most recent call last)",
      "Cell \u001b[0;32mIn[18], line 1\u001b[0m\n\u001b[0;32m----> 1\u001b[0m os\u001b[38;5;241m.\u001b[39mrmdir(\u001b[38;5;124m\"\u001b[39m\u001b[38;5;124mnew_directory\u001b[39m\u001b[38;5;124m\"\u001b[39m)\n",
      "\u001b[0;31mOSError\u001b[0m: [Errno 66] Directory not empty: 'new_directory'"
     ]
    }
   ],
   "source": [
    "os.rmdir(\"new_directory\")"
   ]
  },
  {
   "cell_type": "code",
   "execution_count": 27,
   "metadata": {},
   "outputs": [
    {
     "data": {
      "text/plain": [
       "'/Users/user/Documents/KBTU_WORK/pp2/Lecture_notes/week_7'"
      ]
     },
     "execution_count": 27,
     "metadata": {},
     "output_type": "execute_result"
    }
   ],
   "source": [
    "os.getcwd()"
   ]
  },
  {
   "cell_type": "code",
   "execution_count": null,
   "metadata": {},
   "outputs": [],
   "source": [
    "os.rmdir()"
   ]
  },
  {
   "cell_type": "code",
   "execution_count": 28,
   "metadata": {},
   "outputs": [],
   "source": [
    "os.remove('file_2b_deleted.py')"
   ]
  },
  {
   "cell_type": "code",
   "execution_count": 29,
   "metadata": {},
   "outputs": [
    {
     "data": {
      "text/plain": [
       "'/Users/user/Documents/KBTU_WORK/pp2/Lecture_notes/week_7'"
      ]
     },
     "execution_count": 29,
     "metadata": {},
     "output_type": "execute_result"
    }
   ],
   "source": [
    "path"
   ]
  },
  {
   "cell_type": "code",
   "execution_count": 32,
   "metadata": {},
   "outputs": [],
   "source": [
    "path = os.getcwd()\n",
    "def cleaning_dir(path):\n",
    "    if os.path.exists(path):\n",
    "\n",
    "        for directory in [col for col in os.listdir() if not '.' in col]:  \n",
    "            next_dir =  path + '/' + directory\n",
    "\n",
    "            # print(os.listdir(next_dir))\n",
    "            if len(os.listdir(next_dir)) > 0:\n",
    "                for file in os.listdir(next_dir):\n",
    "                    os.remove(next_dir + '/' + file)\n",
    "                    print(f'file successfully deleted {next_dir + '/' + file}')\n",
    "            else:\n",
    "                os.rmdir(next_dir)\n",
    "                print(f'The {next_dir} is deleted')\n",
    "    else:\n",
    "        pass"
   ]
  },
  {
   "cell_type": "code",
   "execution_count": 33,
   "metadata": {},
   "outputs": [
    {
     "data": {
      "text/plain": [
       "True"
      ]
     },
     "execution_count": 33,
     "metadata": {},
     "output_type": "execute_result"
    }
   ],
   "source": [
    "os.path.exists(path)"
   ]
  },
  {
   "cell_type": "code",
   "execution_count": 34,
   "metadata": {},
   "outputs": [
    {
     "data": {
      "text/plain": [
       "True"
      ]
     },
     "execution_count": 34,
     "metadata": {},
     "output_type": "execute_result"
    }
   ],
   "source": [
    "os.path.isdir(path)"
   ]
  },
  {
   "cell_type": "code",
   "execution_count": 35,
   "metadata": {},
   "outputs": [
    {
     "data": {
      "text/plain": [
       "False"
      ]
     },
     "execution_count": 35,
     "metadata": {},
     "output_type": "execute_result"
    }
   ],
   "source": [
    "os.path.isfile(path)"
   ]
  },
  {
   "cell_type": "code",
   "execution_count": 6,
   "metadata": {},
   "outputs": [
    {
     "data": {
      "text/plain": [
       "['new_file.txt',\n",
       " 'people.csv',\n",
       " '.DS_Store',\n",
       " 'test',\n",
       " 'new_directory',\n",
       " 'people_dict.csv',\n",
       " 'lecture_2.ipynb',\n",
       " 'new_file.csv']"
      ]
     },
     "execution_count": 6,
     "metadata": {},
     "output_type": "execute_result"
    }
   ],
   "source": [
    "os.listdir()"
   ]
  },
  {
   "cell_type": "code",
   "execution_count": 5,
   "metadata": {},
   "outputs": [
    {
     "ename": "OSError",
     "evalue": "[Errno 66] Directory not empty: 'new_directory'",
     "output_type": "error",
     "traceback": [
      "\u001b[0;31m---------------------------------------------------------------------------\u001b[0m",
      "\u001b[0;31mOSError\u001b[0m                                   Traceback (most recent call last)",
      "Cell \u001b[0;32mIn[5], line 1\u001b[0m\n\u001b[0;32m----> 1\u001b[0m os\u001b[38;5;241m.\u001b[39mrmdir(\u001b[38;5;124m'\u001b[39m\u001b[38;5;124mnew_directory\u001b[39m\u001b[38;5;124m'\u001b[39m)\n",
      "\u001b[0;31mOSError\u001b[0m: [Errno 66] Directory not empty: 'new_directory'"
     ]
    }
   ],
   "source": [
    "os.rmdir('new_directory')"
   ]
  },
  {
   "cell_type": "markdown",
   "metadata": {},
   "source": [
    "## Handling the file"
   ]
  },
  {
   "cell_type": "code",
   "execution_count": 37,
   "metadata": {},
   "outputs": [],
   "source": [
    "file = open('new_file.txt')"
   ]
  },
  {
   "cell_type": "code",
   "execution_count": 38,
   "metadata": {},
   "outputs": [
    {
     "data": {
      "text/plain": [
       "'Hello OLD file!\\nHello new file!\\nThis is the New message!'"
      ]
     },
     "execution_count": 38,
     "metadata": {},
     "output_type": "execute_result"
    }
   ],
   "source": [
    "file.read()"
   ]
  },
  {
   "cell_type": "code",
   "execution_count": 40,
   "metadata": {},
   "outputs": [
    {
     "name": "stdout",
     "output_type": "stream",
     "text": [
      "Hello OLD file!\n",
      "Hello new file!\n",
      "This is the New message!\n"
     ]
    }
   ],
   "source": [
    "with open('new_file.txt', mode = 'r', errors = 'coerse') as file:\n",
    "    row = file.read()\n",
    "    print(row)"
   ]
  },
  {
   "cell_type": "code",
   "execution_count": 43,
   "metadata": {},
   "outputs": [],
   "source": [
    "with open('new_file.txt', mode = 'w', errors = 'coerse') as file:\n",
    "    file.write('Hello again!\\n')\n",
    "    file.write('Goodbye now!\\n')"
   ]
  },
  {
   "cell_type": "code",
   "execution_count": 44,
   "metadata": {},
   "outputs": [],
   "source": [
    "with open('new_file.txt', mode = 'a', errors = 'coerse') as file:\n",
    "    file.write('Hello second time!\\n')\n",
    "    file.write('Goodbye at all!\\n')"
   ]
  },
  {
   "cell_type": "code",
   "execution_count": 56,
   "metadata": {},
   "outputs": [],
   "source": [
    "if  os.path.exists('new_file2.txt'):\n",
    "    with open('new_file2.txt', mode = 'w', errors = 'coerse') as file:\n",
    "        file.write('NEW NEW time!\\n')\n",
    "        file.write('New goodbye at all!\\n')"
   ]
  },
  {
   "cell_type": "code",
   "execution_count": 57,
   "metadata": {},
   "outputs": [
    {
     "ename": "ValueError",
     "evalue": "I/O operation on closed file.",
     "output_type": "error",
     "traceback": [
      "\u001b[0;31m---------------------------------------------------------------------------\u001b[0m",
      "\u001b[0;31mValueError\u001b[0m                                Traceback (most recent call last)",
      "Cell \u001b[0;32mIn[57], line 1\u001b[0m\n\u001b[0;32m----> 1\u001b[0m file\u001b[38;5;241m.\u001b[39mwrite(\u001b[38;5;124m'\u001b[39m\u001b[38;5;124mNEW NEW time!\u001b[39m\u001b[38;5;130;01m\\n\u001b[39;00m\u001b[38;5;124m'\u001b[39m)\n",
      "\u001b[0;31mValueError\u001b[0m: I/O operation on closed file."
     ]
    }
   ],
   "source": [
    "file.write('NEW NEW time!\\n')"
   ]
  },
  {
   "cell_type": "code",
   "execution_count": 54,
   "metadata": {},
   "outputs": [
    {
     "name": "stdout",
     "output_type": "stream",
     "text": [
      "NEW NEW time!\n",
      "New goodbye at all!\n"
     ]
    }
   ],
   "source": [
    "with open('new_file2.txt') as file:\n",
    "    for row in file:\n",
    "        print(row.strip())"
   ]
  },
  {
   "cell_type": "markdown",
   "metadata": {},
   "source": [
    "## CSV files\n",
    "COMMA SEPERATED VALUES|"
   ]
  },
  {
   "cell_type": "code",
   "execution_count": 59,
   "metadata": {},
   "outputs": [],
   "source": [
    "import csv"
   ]
  },
  {
   "cell_type": "code",
   "execution_count": 71,
   "metadata": {},
   "outputs": [],
   "source": [
    "list_data = [['name', 'age', 'gender'], \n",
    "             ['Almas',30, 'M'], \n",
    "             ['Ayan', 20, 'M']]"
   ]
  },
  {
   "cell_type": "code",
   "execution_count": 76,
   "metadata": {},
   "outputs": [],
   "source": [
    "\n",
    "with open('new_csv_file.csv', mode = 'w' , newline = \"\") as file:\n",
    "    csv_writer = csv.writer(file)\n",
    "    csv_writer.writerows(list_data)"
   ]
  },
  {
   "cell_type": "code",
   "execution_count": 79,
   "metadata": {},
   "outputs": [
    {
     "name": "stdout",
     "output_type": "stream",
     "text": [
      "['name', 'age', 'gender']\n",
      "['Almas', '30', 'M']\n",
      "['Ayan', '20', 'M']\n"
     ]
    }
   ],
   "source": [
    "with open('new_csv_file.csv', mode = 'r') as file2:\n",
    "    csv_reader = csv.reader(file2, delimiter= ',')\n",
    "    for row in csv_reader:\n",
    "        print(row)"
   ]
  },
  {
   "cell_type": "code",
   "execution_count": 80,
   "metadata": {},
   "outputs": [],
   "source": [
    "list_data2 = [ ['Ayana',25, 'F'], \n",
    "             ['Sanzhar', 15, 'M']]"
   ]
  },
  {
   "cell_type": "code",
   "execution_count": 81,
   "metadata": {},
   "outputs": [],
   "source": [
    "\n",
    "with open('new_csv_file.csv', mode = 'a' , newline = \"\") as file:\n",
    "    csv_writer = csv.writer(file)\n",
    "    csv_writer.writerows(list_data2)"
   ]
  },
  {
   "cell_type": "code",
   "execution_count": 90,
   "metadata": {},
   "outputs": [
    {
     "name": "stdout",
     "output_type": "stream",
     "text": [
      "CSV file written successfully!\n"
     ]
    }
   ],
   "source": [
    "\n",
    "import csv\n",
    "\n",
    "data = [\n",
    "    {\"Name\": \"Name\", \"Age\": \"Age\", \"City\": \"City\"},\n",
    "    {\"Name\": \"Bob\", \"Age\": 25, \"City\": \"Los Angeles\"},\n",
    "    {\"Name\": \"Charlie\", \"Age\": 35, \"City\": \"Chicago\"}\n",
    "]\n",
    "\n",
    "# Writing to CSV\n",
    "with open(\"people_dict.csv\", mode=\"w\", newline=\"\") as file:\n",
    "    fieldnames = [\"Name\", \"Age\", \"City\"]\n",
    "    writer = csv.DictWriter(file, fieldnames=fieldnames)\n",
    "\n",
    "    #writer.writeheader()  # Writing column names\n",
    "    writer.writerows(data)\n",
    "\n",
    "print(\"CSV file written successfully!\")\n",
    "\n"
   ]
  },
  {
   "cell_type": "code",
   "execution_count": null,
   "metadata": {},
   "outputs": [],
   "source": []
  }
 ],
 "metadata": {
  "kernelspec": {
   "display_name": "base",
   "language": "python",
   "name": "python3"
  },
  "language_info": {
   "codemirror_mode": {
    "name": "ipython",
    "version": 3
   },
   "file_extension": ".py",
   "mimetype": "text/x-python",
   "name": "python",
   "nbconvert_exporter": "python",
   "pygments_lexer": "ipython3",
   "version": "3.12.4"
  }
 },
 "nbformat": 4,
 "nbformat_minor": 2
}
